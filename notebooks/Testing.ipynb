{
 "cells": [
  {
   "cell_type": "markdown",
   "metadata": {},
   "source": [
    "# Libraries"
   ]
  },
  {
   "cell_type": "code",
   "execution_count": null,
   "metadata": {
    "collapsed": false,
    "jupyter": {
     "outputs_hidden": false
    }
   },
   "outputs": [],
   "source": [
    "import numpy as np\n",
    "import pandas as pd\n",
    "import tflearn, h5py, cv2\n",
    "import matplotlib.pyplot as plt\n",
    "\n",
    "import sys\n",
    "sys.path.append('..')\n",
    "from src.models.cnn_model import CNNModel"
   ]
  },
  {
   "cell_type": "markdown",
   "metadata": {},
   "source": [
    "# Build components"
   ]
  },
  {
   "cell_type": "code",
   "execution_count": null,
   "metadata": {},
   "outputs": [],
   "source": [
    "# Dataset\n",
    "\n",
    "h5f = h5py.File('../src/data/train.h5', 'r')\n",
    "X_train_images = h5f['X']\n",
    "Y_train_labels = h5f['Y']\n",
    "\n",
    "print(\"X_train_images\", X_train_images.shape)\n",
    "print(\"Y_train_labels\", Y_train_labels.shape)"
   ]
  },
  {
   "cell_type": "code",
   "execution_count": null,
   "metadata": {
    "collapsed": false,
    "jupyter": {
     "outputs_hidden": false
    }
   },
   "outputs": [],
   "source": [
    "# Model\n",
    "\n",
    "convnet  = CNNModel()\n",
    "network = convnet.define_network(X_train_images)\n",
    "model = tflearn.DNN(network, tensorboard_verbose=0, checkpoint_path=\"../ckpt/nodule3-classifier.tfl.ckpt\")\n",
    "model.load(\"../ckpt/nodule3-classifier.tfl\")"
   ]
  },
  {
   "cell_type": "markdown",
   "metadata": {},
   "source": [
    "# Get clusters"
   ]
  },
  {
   "cell_type": "code",
   "execution_count": null,
   "metadata": {},
   "outputs": [],
   "source": [
    "# Inference\n",
    "\n",
    "preds = model.predict(X_train_images[:,:,:,:])\n",
    "print(\"preds\", preds.shape)"
   ]
  },
  {
   "cell_type": "code",
   "execution_count": null,
   "metadata": {},
   "outputs": [],
   "source": [
    "# Get clusters\n",
    "\n",
    "pos_indicator = Y_train_labels[:,1]==1\n",
    "neg_indicator = Y_train_labels[:,0]==1\n",
    "\n",
    "pos_embeddings = preds[pos_indicator,:]\n",
    "neg_embeddings = preds[neg_indicator,:]\n",
    "print(pos_embeddings.shape, neg_embeddings.shape)\n",
    "\n",
    "avg_pos_embedding = pos_embeddings.mean(axis=0)\n",
    "avg_neg_embedding = neg_embeddings.mean(axis=0)\n",
    "print(\"avg_pos_embedding\", avg_pos_embedding)\n",
    "print(\"avg_neg_embedding\", avg_neg_embedding)"
   ]
  },
  {
   "cell_type": "markdown",
   "metadata": {},
   "source": [
    "# Testing"
   ]
  },
  {
   "cell_type": "code",
   "execution_count": null,
   "metadata": {},
   "outputs": [],
   "source": [
    "# Dataset\n",
    "\n",
    "h5f2 = h5py.File('../src/data/test.h5', 'r')\n",
    "X_test_images = h5f2['X']\n",
    "Y_test_labels = h5f2['Y']\n",
    "\n",
    "print(\"X_test_images\", X_test_images.shape)\n",
    "print(\"Y_test_labels\", Y_test_labels.shape)"
   ]
  },
  {
   "cell_type": "code",
   "execution_count": null,
   "metadata": {},
   "outputs": [],
   "source": [
    "# Inference\n",
    "\n",
    "embeddings = model.predict(X_test_images[:,:,:,:])\n",
    "print(\"embeddings\", embeddings.shape)"
   ]
  },
  {
   "cell_type": "code",
   "execution_count": null,
   "metadata": {},
   "outputs": [],
   "source": [
    "# Cluster\n",
    "\n",
    "pos_dists = ((embeddings-avg_pos_embedding)**2).sum(axis=1)[:,np.newaxis]\n",
    "neg_dists = ((embeddings-avg_neg_embedding)**2).sum(axis=1)[:,np.newaxis]\n",
    "dists = np.hstack([neg_dists, pos_dists])\n",
    "pred_indicies = np.argmin(dists, axis=1)\n",
    "\n",
    "print(\"neg_ratio:\", (pred_indicies==0).sum() / pred_indicies.size)\n",
    "print(\"pos_ratio:\", (pred_indicies==1).sum() / pred_indicies.size)"
   ]
  },
  {
   "cell_type": "code",
   "execution_count": null,
   "metadata": {},
   "outputs": [],
   "source": []
  }
 ],
 "metadata": {
  "kernelspec": {
   "display_name": "lungcancer",
   "language": "python",
   "name": "lungcancer"
  },
  "language_info": {
   "codemirror_mode": {
    "name": "ipython",
    "version": 3
   },
   "file_extension": ".py",
   "mimetype": "text/x-python",
   "name": "python",
   "nbconvert_exporter": "python",
   "pygments_lexer": "ipython3",
   "version": "3.6.8"
  }
 },
 "nbformat": 4,
 "nbformat_minor": 4
}
